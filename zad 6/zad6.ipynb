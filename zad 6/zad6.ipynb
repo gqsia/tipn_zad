{
 "cells": [
  {
   "cell_type": "code",
   "execution_count": 7,
   "metadata": {},
   "outputs": [],
   "source": [
    "suma = []\n",
    "a = \"Czy jesteś odważny?\"\n",
    "b = \"Czy jesteś mądry?\"\n",
    "c = \"Czy jesteś ambitny?\"\n",
    "d = \"Czy jesteś przyjacielski?\"\n",
    "e = \"Czy wierzysz w magię?\""
   ]
  },
  {
   "cell_type": "code",
   "execution_count": 8,
   "metadata": {},
   "outputs": [],
   "source": [
    "def zadaj_pytanie(a):\n",
    "        \n",
    "    print(a)\n",
    "    x = input(\"1 oznacza zupełnie się nie zgadzam, a 5 oznacza całkowicie się zgadzam:\")\n",
    "    x = int(x)\n",
    "    return x"
   ]
  },
  {
   "cell_type": "code",
   "execution_count": 9,
   "metadata": {},
   "outputs": [
    {
     "name": "stdout",
     "output_type": "stream",
     "text": [
      "Czy jesteś odważny?\n"
     ]
    },
    {
     "name": "stdin",
     "output_type": "stream",
     "text": [
      "1 oznacza zupełnie się nie zgadzam, a 5 oznacza całkowicie się zgadzam: 3\n"
     ]
    },
    {
     "name": "stdout",
     "output_type": "stream",
     "text": [
      "Czy jesteś mądry?\n"
     ]
    },
    {
     "name": "stdin",
     "output_type": "stream",
     "text": [
      "1 oznacza zupełnie się nie zgadzam, a 5 oznacza całkowicie się zgadzam: 3\n"
     ]
    },
    {
     "name": "stdout",
     "output_type": "stream",
     "text": [
      "Czy jesteś ambitny?\n"
     ]
    },
    {
     "name": "stdin",
     "output_type": "stream",
     "text": [
      "1 oznacza zupełnie się nie zgadzam, a 5 oznacza całkowicie się zgadzam: 3\n"
     ]
    },
    {
     "name": "stdout",
     "output_type": "stream",
     "text": [
      "Czy jesteś przyjacielski?\n"
     ]
    },
    {
     "name": "stdin",
     "output_type": "stream",
     "text": [
      "1 oznacza zupełnie się nie zgadzam, a 5 oznacza całkowicie się zgadzam: 3\n"
     ]
    },
    {
     "name": "stdout",
     "output_type": "stream",
     "text": [
      "Czy wierzysz w magię?\n"
     ]
    },
    {
     "name": "stdin",
     "output_type": "stream",
     "text": [
      "1 oznacza zupełnie się nie zgadzam, a 5 oznacza całkowicie się zgadzam: 3\n"
     ]
    },
    {
     "name": "stdout",
     "output_type": "stream",
     "text": [
      "Twój wynik to 15 . Hufflepuff! Twoim nowym domem jest dom borsuka, ceni się tam przede wszystkim uprzejmość i koleżeńskość. Sławna postać  z tego domu to Cedrik Diggory.\n"
     ]
    }
   ],
   "source": [
    "lista = []\n",
    "wyn = zadaj_pytanie(a)\n",
    "lista.append(wyn)\n",
    "wyn = zadaj_pytanie(b)\n",
    "lista.append(wyn)\n",
    "wyn = zadaj_pytanie(c)\n",
    "lista.append(wyn)\n",
    "wyn = zadaj_pytanie(d)\n",
    "lista.append(wyn)\n",
    "wyn = zadaj_pytanie(e)\n",
    "lista.append(wyn)\n",
    "wynik = sum(lista)\n",
    "wynik = int(wynik)\n",
    "if wynik == 5:\n",
    "    print(\"Twój wynik to\", wynik, \".\", \"Niestety nie nadajesz się do żadnego domu w Hogwarcie. Czy na pewno jesteś czarodziejem/czarwonicą?\")\n",
    "elif wynik > 5 and wynik < 10:\n",
    "    print(\"Twój wynik to\", wynik, \".\", \"Ravenclaw! Twoim domem jest dom spod znaku kruka, gdzie ponad wszystko ceni się wiedzę i błyskotliwość. Sławną postacią z tego domu jest Cho Chang.\")\n",
    "elif wynik >= 10 and wynik < 15:\n",
    "    print(\"Twój wynik to\", wynik, \".\", \"Slytherin! Dom węża, jest twoją drugą rodziną. Jego mieszkańcy charakteryzują się się ambicją i dążeniem do celu. Sławna postać Slytherinu to Draco Malfoy.\")\n",
    "elif wynik >= 15 and wynik < 20:\n",
    "    print(\"Twój wynik to\", wynik, \".\", \"Hufflepuff! Twoim nowym domem jest dom borsuka, ceni się tam przede wszystkim uprzejmość i koleżeńskość. Sławna postać  z tego domu to Cedrik Diggory.\")\n",
    "elif wynik >=20 and wynik < 25:\n",
    "    print(\"Twój wynik to\", wynik, \".\", \"Gryffinfor! Należysz do domu lwa, gdzie najważniejszymi cechami są odwaga i męstwo. Sławna postać z tego domu to Harry Potter.\")\n",
    "elif wynik == 25:\n",
    "    print(\"Twój wynik to\", wynik, \".\", \"Wow!!! Jesteś tak super, że nadajesz się do każdego domu w Hogwarcie. Czyżby rósł nam nowy Albus Dumbledore?\")\n",
    "    \n",
    "lista = []"
   ]
  },
  {
   "cell_type": "code",
   "execution_count": null,
   "metadata": {},
   "outputs": [],
   "source": []
  }
 ],
 "metadata": {
  "kernelspec": {
   "display_name": "Python 3",
   "language": "python",
   "name": "python3"
  },
  "language_info": {
   "codemirror_mode": {
    "name": "ipython",
    "version": 3
   },
   "file_extension": ".py",
   "mimetype": "text/x-python",
   "name": "python",
   "nbconvert_exporter": "python",
   "pygments_lexer": "ipython3",
   "version": "3.7.0"
  }
 },
 "nbformat": 4,
 "nbformat_minor": 2
}
