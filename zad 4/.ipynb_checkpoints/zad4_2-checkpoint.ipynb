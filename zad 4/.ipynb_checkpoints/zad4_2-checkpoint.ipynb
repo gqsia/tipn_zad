{
 "cells": [
  {
   "cell_type": "code",
   "execution_count": 1,
   "metadata": {},
   "outputs": [],
   "source": [
    "przedmioty = [\"metodologia\", \"logika\", \"angielski\", \"psychologia\", \"filozofia\"]"
   ]
  },
  {
   "cell_type": "code",
   "execution_count": 2,
   "metadata": {},
   "outputs": [
    {
     "name": "stdin",
     "output_type": "stream",
     "text": [
      "Podaj ocenę z metodologii: 5.0\n",
      "Podaj ocenę z logiki: 4.5\n",
      "Podaj ocenę z angielskiego: 4.5\n",
      "Podaj ocenę z psychologii: 5.0\n",
      "Podaj ocenę z filozofii: 5.0\n"
     ]
    }
   ],
   "source": [
    "lista = []\n",
    "ocena = input(\"Podaj ocenę z metodologii:\")\n",
    "ocena = float(ocena)\n",
    "lista.append(ocena)\n",
    "ocena = input(\"Podaj ocenę z logiki:\")\n",
    "ocena = float(ocena)\n",
    "lista.append(ocena)\n",
    "ocena = input(\"Podaj ocenę z angielskiego:\")\n",
    "ocena = float(ocena)\n",
    "lista.append(ocena)\n",
    "ocena = input(\"Podaj ocenę z psychologii:\")\n",
    "ocena = float(ocena)\n",
    "lista.append(ocena)\n",
    "ocena = input(\"Podaj ocenę z filozofii:\")\n",
    "ocena = float(ocena)\n",
    "lista.append(ocena)"
   ]
  },
  {
   "cell_type": "code",
   "execution_count": 3,
   "metadata": {},
   "outputs": [
    {
     "data": {
      "text/plain": [
       "[5.0, 4.5, 4.5, 5.0, 5.0]"
      ]
     },
     "execution_count": 3,
     "metadata": {},
     "output_type": "execute_result"
    }
   ],
   "source": [
    "lista"
   ]
  },
  {
   "cell_type": "code",
   "execution_count": 4,
   "metadata": {},
   "outputs": [
    {
     "data": {
      "text/plain": [
       "24.0"
      ]
     },
     "execution_count": 4,
     "metadata": {},
     "output_type": "execute_result"
    }
   ],
   "source": [
    "sum(lista)"
   ]
  },
  {
   "cell_type": "code",
   "execution_count": 5,
   "metadata": {},
   "outputs": [
    {
     "data": {
      "text/plain": [
       "5"
      ]
     },
     "execution_count": 5,
     "metadata": {},
     "output_type": "execute_result"
    }
   ],
   "source": [
    "len(lista)"
   ]
  },
  {
   "cell_type": "code",
   "execution_count": 7,
   "metadata": {},
   "outputs": [
    {
     "name": "stdout",
     "output_type": "stream",
     "text": [
      "4.8\n"
     ]
    }
   ],
   "source": [
    "srednia = (sum(lista)/len(lista))\n",
    "print(srednia)"
   ]
  },
  {
   "cell_type": "code",
   "execution_count": null,
   "metadata": {},
   "outputs": [],
   "source": []
  }
 ],
 "metadata": {
  "kernelspec": {
   "display_name": "Python 3",
   "language": "python",
   "name": "python3"
  },
  "language_info": {
   "codemirror_mode": {
    "name": "ipython",
    "version": 3
   },
   "file_extension": ".py",
   "mimetype": "text/x-python",
   "name": "python",
   "nbconvert_exporter": "python",
   "pygments_lexer": "ipython3",
   "version": "3.7.0"
  }
 },
 "nbformat": 4,
 "nbformat_minor": 2
}
